{
 "cells": [
  {
   "cell_type": "markdown",
   "metadata": {},
   "source": [
    "#### importing libraries and setting up the data frame"
   ]
  },
  {
   "cell_type": "code",
   "execution_count": 1,
   "metadata": {},
   "outputs": [
    {
     "name": "stdout",
     "output_type": "stream",
     "text": [
      "        TV  Radio  Newspaper  Sales\n",
      "0    230.1   37.8       69.2   22.1\n",
      "1     44.5   39.3       45.1   10.4\n",
      "2     17.2   45.9       69.3    9.3\n",
      "3    151.5   41.3       58.5   18.5\n",
      "4    180.8   10.8       58.4   12.9\n",
      "..     ...    ...        ...    ...\n",
      "195   38.2    3.7       13.8    7.6\n",
      "196   94.2    4.9        8.1    9.7\n",
      "197  177.0    9.3        6.4   12.8\n",
      "198  283.6   42.0       66.2   25.5\n",
      "199  232.1    8.6        8.7   13.4\n",
      "\n",
      "[200 rows x 4 columns]\n"
     ]
    }
   ],
   "source": [
    "import pandas as pd\n",
    "import numpy as np\n",
    "import matplotlib.pyplot as plt\n",
    "df = pd.read_csv('datasets/Advertising.csv')\n",
    "\n",
    "del df['Unnamed: 0']\n",
    "print(df)"
   ]
  },
  {
   "cell_type": "markdown",
   "metadata": {},
   "source": [
    "#### splitting train/ test"
   ]
  },
  {
   "cell_type": "code",
   "execution_count": 27,
   "metadata": {},
   "outputs": [],
   "source": [
    "train_df = df.loc[0:(n*0.8), :]\n",
    "test_df = df.loc[(n*0.8)+1:, :]\n",
    "# print(train_df)\n",
    "# print(test_df)\n",
    "\n",
    "x = train_df[['TV', 'Radio', 'Newspaper']]\n",
    "y = train_df['Sales']\n",
    "#print(type(x))\n",
    "# print(y)\n",
    "n = len(df)"
   ]
  },
  {
   "cell_type": "code",
   "execution_count": 83,
   "metadata": {},
   "outputs": [
    {
     "name": "stdout",
     "output_type": "stream",
     "text": [
      "RSS: 111.69 \n",
      "RSE: 1.0 \n",
      "R_sq: 0.9 \n"
     ]
    }
   ],
   "source": [
    "from sklearn import linear_model\n",
    "\n",
    "#linear regression object  has a method called fit() that takes the independent and dependent values as parameters \n",
    "#and fills the regression object with data that describes the relationship\n",
    "\n",
    "#fit_intercept = true, Whether to calculate the intercept for this model. If set to False, no intercept will be used in calculations\n",
    "regr = linear_model.LinearRegression(fit_intercept=True)\n",
    "regr.fit(x, y)\n",
    "\n",
    "#Now we have a regression object that are ready to predict sales values based on a TV, newspaper, radio budgets\n",
    "_x = test_df[['TV', 'Radio', 'Newspaper']]\n",
    "_y = test_df['Sales']\n",
    "\n",
    "\n",
    "mean_y = round(_y.mean(), 4)\n",
    "\n",
    "est_y = regr.predict(_x)\n",
    "e = []\n",
    "e_sq = []\n",
    "for i in range(len(_y)):\n",
    "    e.append(round(_y.iloc[i] - round(est_y[i], 2) ,2))\n",
    "    e_sq.append(round(e[i]**2, 2))\n",
    "    \n",
    "RSS = round(sum(e_sq), 2)\n",
    "RSE = round((RSS/(n-2))**0.5)\n",
    "        \n",
    "TSS = round(sum(_y.sub(mean_y)**2), 4)\n",
    "R2 = round(1 - (RSS/TSS) , 2)\n",
    "print(\"RSS: {} \".format(RSS))\n",
    "print(\"RSE: {} \".format(RSE))\n",
    "print(\"R_sq: {} \".format(R2))\n",
    "    \n"
   ]
  }
 ],
 "metadata": {
  "kernelspec": {
   "display_name": "Python 3",
   "language": "python",
   "name": "python3"
  },
  "language_info": {
   "codemirror_mode": {
    "name": "ipython",
    "version": 3
   },
   "file_extension": ".py",
   "mimetype": "text/x-python",
   "name": "python",
   "nbconvert_exporter": "python",
   "pygments_lexer": "ipython3",
   "version": "3.7.4"
  }
 },
 "nbformat": 4,
 "nbformat_minor": 2
}
