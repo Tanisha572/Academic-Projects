{
 "cells": [
  {
   "cell_type": "markdown",
   "metadata": {},
   "source": [
    "###  POLYNOMIAL REGRESSION (Auto.csv)"
   ]
  },
  {
   "cell_type": "markdown",
   "metadata": {},
   "source": [
    "#### importing libraries"
   ]
  },
  {
   "cell_type": "code",
   "execution_count": 15,
   "metadata": {},
   "outputs": [],
   "source": [
    "import pandas as pd\n",
    "from pandas import DataFrame\n",
    "import numpy as np\n",
    "import matplotlib.pyplot as plt"
   ]
  },
  {
   "cell_type": "markdown",
   "metadata": {},
   "source": [
    "#### getting data set"
   ]
  },
  {
   "cell_type": "code",
   "execution_count": 23,
   "metadata": {},
   "outputs": [
    {
     "name": "stdout",
     "output_type": "stream",
     "text": [
      "['horsepower', 'horsepower_sq']\n"
     ]
    }
   ],
   "source": [
    "df = pd.read_csv('datasets/Auto.csv')\n",
    "horsepower = df.columns[3]\n",
    "cols = []\n",
    "cols.append(horsepower)\n",
    "X = df.iloc[:,3].values\n",
    "y = df.iloc[:,0].values\n",
    "#horsepower is stored as string and also with missing values as '?'\n",
    "#so first, we replace the missing values and then convert them into int\n",
    "#we can then replace those changed missing values to the mean of the now numeric x\n",
    "X = np.where(X == '?', 0, X)\n",
    "X = X.astype(np.int)\n",
    "X = np.where(X == 0, np.mean(X).round(2), X)\n",
    "X = X.reshape(X.shape[0],1)\n",
    "#we'll ad a column of horsepower_sq as an input feature, appending it to X\n",
    "hp2 = (X**2).round(2)\n",
    "X = np.append(X, hp2, axis = 1)\n",
    "cols.append('horsepower_sq')\n",
    "print(cols)\n",
    "# print(X.shape)\n",
    "# print(X)\n"
   ]
  },
  {
   "cell_type": "markdown",
   "metadata": {},
   "source": [
    "#### splitting dataset into training and test sets (80/20)"
   ]
  },
  {
   "cell_type": "code",
   "execution_count": 17,
   "metadata": {},
   "outputs": [],
   "source": [
    "from sklearn.model_selection import train_test_split\n",
    "X_train, X_test, y_train, y_test = train_test_split(X, y, test_size = 0.2, random_state = 13)"
   ]
  },
  {
   "cell_type": "markdown",
   "metadata": {},
   "source": [
    "#### training MLR model on the training set (treating horsepower_sq as another predictor)"
   ]
  },
  {
   "cell_type": "code",
   "execution_count": 18,
   "metadata": {},
   "outputs": [],
   "source": [
    "from sklearn.linear_model import LinearRegression\n",
    "\n",
    "def trainModel(X, y, regressor):\n",
    "    regressor.fit(X, y)\n",
    "    B0 = regressor.intercept_.round(4)\n",
    "    Bi = regressor.coef_.round(4)\n",
    "    print(\"intercept: {}\".format(B0))\n",
    "    print(\"coefficients: {}\".format(Bi))\n",
    "    return (B0, Bi)\n",
    "    \n",
    "    "
   ]
  },
  {
   "cell_type": "code",
   "execution_count": 19,
   "metadata": {},
   "outputs": [
    {
     "name": "stdout",
     "output_type": "stream",
     "text": [
      "intercept: 57.1164\n",
      "coefficients: [-0.4643  0.0012]\n"
     ]
    }
   ],
   "source": [
    "regressor = LinearRegression()\n",
    "B0, Bi = trainModel(X_train, y_train, regressor)\n"
   ]
  },
  {
   "cell_type": "markdown",
   "metadata": {},
   "source": [
    "#### using model to predict for test set"
   ]
  },
  {
   "cell_type": "code",
   "execution_count": 20,
   "metadata": {},
   "outputs": [],
   "source": [
    "x = X_test.round(2)\n",
    "y_pred = regressor.predict(x).round(2)"
   ]
  },
  {
   "cell_type": "markdown",
   "metadata": {},
   "source": [
    "#### calculating accuracy using R^2"
   ]
  },
  {
   "cell_type": "code",
   "execution_count": 21,
   "metadata": {},
   "outputs": [
    {
     "name": "stdout",
     "output_type": "stream",
     "text": [
      "0.5769\n",
      "0.6904\n"
     ]
    }
   ],
   "source": [
    "from sklearn.metrics import r2_score\n",
    "r2_train = r2_score(y_train, regressor.predict(X_train)).round(4)\n",
    "r2_test = r2_score(y_test, y_pred).round(4)\n",
    "print(r2_test)\n",
    "print(r2_train)"
   ]
  },
  {
   "cell_type": "markdown",
   "metadata": {},
   "source": [
    "#### calculating the residual"
   ]
  },
  {
   "cell_type": "code",
   "execution_count": 22,
   "metadata": {},
   "outputs": [
    {
     "name": "stdout",
     "output_type": "stream",
     "text": [
      "1779.9735\n"
     ]
    }
   ],
   "source": [
    "residual = (y_pred - y_test).round(4)\n",
    "residual_sq = residual**2\n",
    "RSS = sum(residual_sq)\n",
    "print(RSS)"
   ]
  }
 ],
 "metadata": {
  "kernelspec": {
   "display_name": "Python 3",
   "language": "python",
   "name": "python3"
  },
  "language_info": {
   "codemirror_mode": {
    "name": "ipython",
    "version": 3
   },
   "file_extension": ".py",
   "mimetype": "text/x-python",
   "name": "python",
   "nbconvert_exporter": "python",
   "pygments_lexer": "ipython3",
   "version": "3.7.4"
  }
 },
 "nbformat": 4,
 "nbformat_minor": 2
}
