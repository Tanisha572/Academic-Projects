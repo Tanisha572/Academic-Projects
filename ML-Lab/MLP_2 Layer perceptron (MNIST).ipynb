{
 "cells": [
  {
   "cell_type": "markdown",
   "metadata": {},
   "source": [
    "### 2 LAYER PERCEPTRON (MNIST digits)"
   ]
  },
  {
   "cell_type": "markdown",
   "metadata": {},
   "source": [
    "#### importing libraries"
   ]
  },
  {
   "cell_type": "code",
   "execution_count": 1,
   "metadata": {},
   "outputs": [],
   "source": [
    "import pandas as pd\n",
    "import numpy as np\n",
    "from sklearn.preprocessing import LabelEncoder\n",
    "from sklearn.model_selection import train_test_split\n",
    "from sklearn.neural_network import MLPClassifier\n",
    "from sklearn.metrics import accuracy_score\n",
    "import matplotlib.pyplot as plt\n",
    "from pandas import DataFrame"
   ]
  },
  {
   "cell_type": "markdown",
   "metadata": {},
   "source": [
    "#### getting dataset and setting X and y"
   ]
  },
  {
   "cell_type": "code",
   "execution_count": 2,
   "metadata": {},
   "outputs": [
    {
     "data": {
      "text/plain": [
       "<Figure size 432x288 with 0 Axes>"
      ]
     },
     "metadata": {},
     "output_type": "display_data"
    },
    {
     "data": {
      "image/png": "[encoded data removed]",
      "text/plain": [
       "<Figure size 288x288 with 1 Axes>"
      ]
     },
     "metadata": {
      "needs_background": "light"
     },
     "output_type": "display_data"
    },
    {
     "name": "stdout",
     "output_type": "stream",
     "text": [
      "(1797, 64)\n"
     ]
    }
   ],
   "source": [
    "from sklearn.datasets import load_digits\n",
    "digits = load_digits()\n",
    "\n",
    "#Display the first digit\n",
    "plt.gray() \n",
    "plt.matshow(digits.images[0]) \n",
    "plt.show()\n",
    "\n",
    "#X contains the values for each 64 pixels for each of 1797 images and y contains the correct corresponding digit\n",
    "X = digits.data \n",
    "y = digits.target\n",
    " \n",
    "#pixels in one 8x8 image is 64 and there are total of 1797 images\n",
    "attr = X.shape[1]\n",
    "n_samples = X.shape[0]\n",
    "print(X.shape)"
   ]
  },
  {
   "cell_type": "markdown",
   "metadata": {},
   "source": [
    "#### one hot encoding for output label"
   ]
  },
  {
   "cell_type": "code",
   "execution_count": 3,
   "metadata": {},
   "outputs": [
    {
     "name": "stdout",
     "output_type": "stream",
     "text": [
      "[[1. 0. 0. ... 0. 0. 0.]\n",
      " [0. 1. 0. ... 0. 0. 0.]\n",
      " [0. 0. 1. ... 0. 0. 0.]\n",
      " ...\n",
      " [0. 0. 0. ... 0. 1. 0.]\n",
      " [0. 0. 0. ... 0. 0. 1.]\n",
      " [0. 0. 0. ... 0. 1. 0.]]\n"
     ]
    }
   ],
   "source": [
    "from sklearn.preprocessing import OneHotEncoder\n",
    "from sklearn.compose import ColumnTransformer\n",
    "\n",
    "ohe = OneHotEncoder(sparse=False, categories='auto')\n",
    "y = y.reshape(len(y), 1)\n",
    "y = ohe.fit_transform(y)\n",
    "print(y)"
   ]
  },
  {
   "cell_type": "markdown",
   "metadata": {},
   "source": [
    "#### training-testing (80/20)"
   ]
  },
  {
   "cell_type": "code",
   "execution_count": 4,
   "metadata": {},
   "outputs": [],
   "source": [
    "from sklearn.model_selection import train_test_split\n",
    "X_train, X_test, y_train, y_test = train_test_split(X, y, test_size = 0.2, random_state = 10)"
   ]
  },
  {
   "cell_type": "markdown",
   "metadata": {},
   "source": [
    "#### feature scaling"
   ]
  },
  {
   "cell_type": "code",
   "execution_count": 5,
   "metadata": {},
   "outputs": [],
   "source": [
    "from sklearn.preprocessing import StandardScaler\n",
    "\n",
    "scaler = StandardScaler()\n",
    "#always fir_transform on training set and as testing set is unseen, we'll use transform to normalise\n",
    "X_train = scaler.fit_transform(X_train)\n",
    "X_test = scaler.transform(X_test)"
   ]
  },
  {
   "cell_type": "markdown",
   "metadata": {},
   "source": [
    "#### training our multilayer perceptron model"
   ]
  },
  {
   "cell_type": "code",
   "execution_count": 6,
   "metadata": {},
   "outputs": [],
   "source": [
    "# #input neorons = 64, # hidden neurons = varying, #output neurons = 1\n",
    "\n",
    "\n",
    "mlp_hn_n = {}\n",
    "n = 20\n",
    "for i in range(1, n+1):\n",
    "    mlp_hn_n[i] = MLPClassifier(hidden_layer_sizes=(attr,i,3), max_iter=1000, random_state=0)\n",
    "    mlp_hn_n[i].fit(X_train,y_train)"
   ]
  },
  {
   "cell_type": "markdown",
   "metadata": {},
   "source": [
    "#### predicting y and geting accuracy score for our model"
   ]
  },
  {
   "cell_type": "code",
   "execution_count": 7,
   "metadata": {},
   "outputs": [
    {
     "name": "stdout",
     "output_type": "stream",
     "text": [
      "accuracy of MLP with 1 hidden neurons: 0.10833\n",
      "accuracy of MLP with 2 hidden neurons: 0.64722\n",
      "accuracy of MLP with 3 hidden neurons: 0.56944\n",
      "accuracy of MLP with 4 hidden neurons: 0.23333\n",
      "accuracy of MLP with 5 hidden neurons: 0.775\n",
      "accuracy of MLP with 6 hidden neurons: 0.76944\n",
      "accuracy of MLP with 7 hidden neurons: 0.81389\n",
      "accuracy of MLP with 8 hidden neurons: 0.79444\n",
      "accuracy of MLP with 9 hidden neurons: 0.79722\n",
      "accuracy of MLP with 10 hidden neurons: 0.79167\n",
      "accuracy of MLP with 11 hidden neurons: 0.80278\n",
      "accuracy of MLP with 12 hidden neurons: 0.76111\n",
      "accuracy of MLP with 13 hidden neurons: 0.78889\n",
      "accuracy of MLP with 14 hidden neurons: 0.77778\n",
      "accuracy of MLP with 15 hidden neurons: 0.58611\n",
      "accuracy of MLP with 16 hidden neurons: 0.77778\n",
      "accuracy of MLP with 17 hidden neurons: 0.78056\n",
      "accuracy of MLP with 18 hidden neurons: 0.79722\n",
      "accuracy of MLP with 19 hidden neurons: 0.81944\n",
      "accuracy of MLP with 20 hidden neurons: 0.55556\n",
      "\n",
      "highest accuracy achieved with 19 hidden neurons: 0.81944\n"
     ]
    }
   ],
   "source": [
    "y_pred_hn_n = {}\n",
    "acc_hn_n = {}\n",
    "most_acc_model = -1 \n",
    "for i in range(1, n+1):\n",
    "    y_pred_hn_n[i] = mlp_hn_n[i].predict(X_test)\n",
    "    acc_hn_n[i] = accuracy_score(y_test,y_pred_hn_n[i]).round(5)\n",
    "    if acc_hn_n[i] > most_acc_model:\n",
    "        most_acc_model = acc_hn_n[i]\n",
    "        hn_n = i\n",
    "        y_pred = y_pred_hn_n[i]\n",
    "    print(\"accuracy of MLP with {} hidden neurons: {}\".format(i, acc_hn_n[i]))\n",
    "print(\"\\nhighest accuracy achieved with {} hidden neurons: {}\".format(hn_n, most_acc_model))\n"
   ]
  },
  {
   "cell_type": "markdown",
   "metadata": {},
   "source": [
    "#### f1 score and ROC curve for most accurate model"
   ]
  },
  {
   "cell_type": "code",
   "execution_count": 8,
   "metadata": {},
   "outputs": [
    {
     "name": "stdout",
     "output_type": "stream",
     "text": [
      "\n",
      "f1 score for the most accurate model: 0.89286\n"
     ]
    }
   ],
   "source": [
    "from sklearn.metrics import f1_score\n",
    "\n",
    "f1_most_acc = f1_score(y_test, y_pred, average='weighted').round(5)\n",
    "print(\"\\nf1 score for the most accurate model: {}\".format(f1_most_acc))"
   ]
  },
  {
   "cell_type": "markdown",
   "metadata": {},
   "source": [
    "#### confusion matrix for the most accurate model"
   ]
  },
  {
   "cell_type": "code",
   "execution_count": 9,
   "metadata": {},
   "outputs": [
    {
     "data": {
      "image/png": "[encoded data removed]",
      "text/plain": [
       "<Figure size 504x504 with 2 Axes>"
      ]
     },
     "metadata": {
      "needs_background": "light"
     },
     "output_type": "display_data"
    }
   ],
   "source": [
    "from sklearn.metrics import confusion_matrix, classification_report\n",
    "import seaborn as sn\n",
    "\n",
    "cm = confusion_matrix(y_test.argmax(axis=1), y_pred.argmax(axis=1))\n",
    "cm\n",
    "plt.figure(figsize = (7, 7))\n",
    "sn.set(font_scale=1.4) # for label size\n",
    "cm_hm = sn.heatmap(cm, annot=True)\n",
    "bottom, top = cm_hm.get_ylim()\n",
    "cm_hm.set_ylim(bottom + 0.5, top - 0.5)\n",
    "plt.xlabel('Predicted Digit')\n",
    "plt.ylabel('Actual Digit')\n",
    "plt.show()"
   ]
  }
 ],
 "metadata": {
  "kernelspec": {
   "display_name": "Python 3",
   "language": "python",
   "name": "python3"
  },
  "language_info": {
   "codemirror_mode": {
    "name": "ipython",
    "version": 3
   },
   "file_extension": ".py",
   "mimetype": "text/x-python",
   "name": "python",
   "nbconvert_exporter": "python",
   "pygments_lexer": "ipython3",
   "version": "3.7.4"
  }
 },
 "nbformat": 4,
 "nbformat_minor": 2
}
