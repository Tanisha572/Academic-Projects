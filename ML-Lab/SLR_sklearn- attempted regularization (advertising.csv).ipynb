{
 "cells": [
  {
   "cell_type": "markdown",
   "metadata": {},
   "source": [
    "###  SIMPLE LINEAR REGRESSION (advertising.csv)"
   ]
  },
  {
   "cell_type": "markdown",
   "metadata": {},
   "source": [
    "#### importing libraries"
   ]
  },
  {
   "cell_type": "code",
   "execution_count": 1,
   "metadata": {},
   "outputs": [],
   "source": [
    "import pandas as pd\n",
    "from pandas import DataFrame\n",
    "import numpy as np\n",
    "import matplotlib.pyplot as plt"
   ]
  },
  {
   "cell_type": "markdown",
   "metadata": {},
   "source": [
    "#### getting data set"
   ]
  },
  {
   "cell_type": "code",
   "execution_count": 2,
   "metadata": {},
   "outputs": [],
   "source": [
    "df = pd.read_csv('datasets/Advertising.csv', index_col = 0)\n",
    "cols = df.columns[:-1]\n",
    "X = df.iloc[:, :-1].values\n",
    "y = df.iloc[:, -1].values\n",
    "#print(X[:, 1])\n",
    "#print(df)"
   ]
  },
  {
   "cell_type": "markdown",
   "metadata": {},
   "source": [
    "#### splitting the data set into train and test (70/30)"
   ]
  },
  {
   "cell_type": "code",
   "execution_count": 3,
   "metadata": {},
   "outputs": [],
   "source": [
    "from sklearn.model_selection import train_test_split\n",
    "X_train, X_test, y_train, y_test = train_test_split(X, y, test_size = 0.3, random_state = 13)"
   ]
  },
  {
   "cell_type": "markdown",
   "metadata": {},
   "source": [
    "#### feature scaling"
   ]
  },
  {
   "cell_type": "code",
   "execution_count": 4,
   "metadata": {},
   "outputs": [],
   "source": [
    "from sklearn.preprocessing import StandardScaler\n",
    "\n",
    "scaler = StandardScaler()\n",
    "#always fir_transform on training set and as testing set is unseen, we'll use transform to normalise\n",
    "X_train = scaler.fit_transform(X_train)\n",
    "X_test = scaler.transform(X_test)"
   ]
  },
  {
   "cell_type": "markdown",
   "metadata": {},
   "source": [
    "#### training SLR model on training set"
   ]
  },
  {
   "cell_type": "code",
   "execution_count": 5,
   "metadata": {},
   "outputs": [],
   "source": [
    "from sklearn.linear_model import LinearRegression\n",
    "from sklearn.metrics import mean_squared_error\n",
    "\n",
    "def trainModel(X, y, regressor):\n",
    "#     print(type(X))\n",
    "#     print(type(X[:,0]))\n",
    "    B0 = {}\n",
    "    Bi = {}\n",
    "    train_MSE = {}\n",
    "    y_train_pred = {}\n",
    "    for i in range(3):\n",
    "        \n",
    "        x = X[:,i].reshape(-1, 1)\n",
    "        regressor.fit(x, y)\n",
    "        B0[cols[i]] = regressor.intercept_\n",
    "        Bi[cols[i]] = regressor.coef_\n",
    "        y_train_pred[cols[i]] = regressor.predict(x)\n",
    "        train_MSE[cols[i]] = mean_squared_error(y_train, y_train_pred[cols[i]])\n",
    "        print(\"intercept for {}: {}\".format(cols[i], B0[cols[i]]))\n",
    "        print(\"coefficient for {}: {}\\n\".format(cols[i], Bi[cols[i]]))\n",
    "    return (B0, Bi, train_MSE, y_train_pred)\n",
    "    \n",
    "    "
   ]
  },
  {
   "cell_type": "code",
   "execution_count": 6,
   "metadata": {},
   "outputs": [
    {
     "name": "stdout",
     "output_type": "stream",
     "text": [
      "intercept for TV: 13.88\n",
      "coefficient for TV: [3.78812774]\n",
      "\n",
      "intercept for Radio: 13.879999999999999\n",
      "coefficient for Radio: [2.52963503]\n",
      "\n",
      "intercept for Newspaper: 13.879999999999999\n",
      "coefficient for Newspaper: [0.54754286]\n",
      "\n"
     ]
    }
   ],
   "source": [
    "regressor = LinearRegression()\n",
    "B0, Bi, train_MSE, y_train_pred = trainModel(X_train, y_train, regressor)\n",
    "\n"
   ]
  },
  {
   "cell_type": "markdown",
   "metadata": {},
   "source": [
    "#### using model to predict against the test data set"
   ]
  },
  {
   "cell_type": "code",
   "execution_count": 7,
   "metadata": {},
   "outputs": [],
   "source": [
    "est_y = {}\n",
    "test_MSE = {}\n",
    "for i in range(3):\n",
    "    x = X_test[:, i].reshape(-1, 1).round(2)\n",
    "    est_y[cols[i]] = regressor.predict(x).round(2)\n",
    "    test_MSE[cols[i]] = mean_squared_error(y_test, est_y[cols[i]])\n",
    "#print(\"{} : {}\".format(est_y['TV'], y_test))"
   ]
  },
  {
   "cell_type": "markdown",
   "metadata": {},
   "source": [
    "#### calculating accuracy using R^2 and comparing train and test MSE"
   ]
  },
  {
   "cell_type": "code",
   "execution_count": 8,
   "metadata": {},
   "outputs": [
    {
     "name": "stdout",
     "output_type": "stream",
     "text": [
      "TV:\n",
      "\n",
      "train MSE: 10.695259689789301\n",
      "test MSE: 26.80953333333333\n",
      "\n",
      "train R^2: 0.1537\n",
      "test R^2: 0.154\n",
      "\n",
      "\n",
      "Radio:\n",
      "\n",
      "train MSE: 18.646118019162408\n",
      "test MSE: 27.822358333333334\n",
      "\n",
      "train R^2: 0.0986\n",
      "test R^2: 0.122\n",
      "\n",
      "\n",
      "Newspaper:\n",
      "\n",
      "train MSE: 24.745368250212845\n",
      "test MSE: 29.11670333333333\n",
      "\n",
      "train R^2: 0.012\n",
      "test R^2: 0.0812\n",
      "\n",
      "\n"
     ]
    }
   ],
   "source": [
    "from sklearn.metrics import r2_score\n",
    "r2_test = {}\n",
    "r2_train = {}\n",
    "for i in range(3):\n",
    "    r2_train[cols[i]] = r2_score(y_train, regressor.predict(X_train[:, i].reshape(-1,1))).round(4)\n",
    "    r2_test[cols[i]] = r2_score(y_test, est_y[cols[i]]).round(4)\n",
    "    print(\"{}:\\n\".format(cols[i]))\n",
    "    print(\"train MSE: {}\\ntest MSE: {}\\n\".format(train_MSE[cols[i]], test_MSE[cols[i]]))\n",
    "    print(\"train R^2: {}\\ntest R^2: {}\\n\\n\".format(r2_train[cols[i]], r2_test[cols[i]]))\n",
    "#as the output suggest, train MSE < test MSE. we'll use regularization to improve this values"
   ]
  },
  {
   "cell_type": "markdown",
   "metadata": {},
   "source": [
    "#### visualising train data set"
   ]
  },
  {
   "cell_type": "code",
   "execution_count": 9,
   "metadata": {},
   "outputs": [
    {
     "data": {
      "image/png": "[encoded data removed]",
      "text/plain": [
       "<Figure size 432x288 with 1 Axes>"
      ]
     },
     "metadata": {
      "needs_background": "light"
     },
     "output_type": "display_data"
    },
    {
     "data": {
      "image/png": "[encoded data removed]",
      "text/plain": [
       "<Figure size 432x288 with 1 Axes>"
      ]
     },
     "metadata": {
      "needs_background": "light"
     },
     "output_type": "display_data"
    },
    {
     "data": {
      "image/png": "[encoded data removed]",
      "text/plain": [
       "<Figure size 432x288 with 1 Axes>"
      ]
     },
     "metadata": {
      "needs_background": "light"
     },
     "output_type": "display_data"
    }
   ],
   "source": [
    "for i in range(3):\n",
    "    plt.scatter(X_train[:,i] , y_train, color = 'red')\n",
    "    plt.plot(X_train[:, i], regressor.predict(X_train[:, i].reshape(-1,1)), color='blue')\n",
    "    plt.title('Sales v/s {}'.format(cols[i]))\n",
    "    plt.xlabel('{}'.format(cols[i]))\n",
    "    plt.ylabel(\"Sales\")\n",
    "    plt.show()"
   ]
  },
  {
   "cell_type": "markdown",
   "metadata": {},
   "source": [
    "#### visualising test data set"
   ]
  },
  {
   "cell_type": "code",
   "execution_count": 10,
   "metadata": {},
   "outputs": [
    {
     "data": {
      "image/png": "[encoded data removed]",
      "text/plain": [
       "<Figure size 432x288 with 1 Axes>"
      ]
     },
     "metadata": {
      "needs_background": "light"
     },
     "output_type": "display_data"
    },
    {
     "data": {
      "image/png": "[encoded data removed]",
      "text/plain": [
       "<Figure size 432x288 with 1 Axes>"
      ]
     },
     "metadata": {
      "needs_background": "light"
     },
     "output_type": "display_data"
    },
    {
     "data": {
      "image/png": "[encoded data removed]",
      "text/plain": [
       "<Figure size 432x288 with 1 Axes>"
      ]
     },
     "metadata": {
      "needs_background": "light"
     },
     "output_type": "display_data"
    }
   ],
   "source": [
    "for i in range(3):\n",
    "    plt.scatter(X_test[:,i] , y_test, color = 'yellow')\n",
    "#    plt.plot(X_train[:, i], regressor.predict(X_train[:, i].reshape(-1,1)), color='blue')\n",
    "    plt.plot(X_test[:, i], est_y[cols[i]], color='green')\n",
    "    plt.title('Sales v/s {}'.format(cols[i]))\n",
    "    plt.xlabel('{}'.format(cols[i]))\n",
    "    plt.ylabel(\"Sales\")\n",
    "    plt.show()"
   ]
  },
  {
   "cell_type": "markdown",
   "metadata": {},
   "source": [
    "### Regularization"
   ]
  },
  {
   "cell_type": "code",
   "execution_count": 11,
   "metadata": {},
   "outputs": [],
   "source": [
    "from sklearn.linear_model import Lasso, Ridge\n",
    "\n",
    "def trainModel(X, y, regressor):\n",
    "    B0 = {}\n",
    "    Bi = {}\n",
    "    train_MSE = {}\n",
    "    y_train_pred = {}\n",
    "    for i in range(3):\n",
    "        \n",
    "        x = X[:,i].reshape(-1, 1)\n",
    "        regressor.fit(x, y)\n",
    "        B0[cols[i]] = regressor.intercept_\n",
    "        Bi[cols[i]] = regressor.coef_\n",
    "        y_train_pred[cols[i]] = regressor.predict(x)\n",
    "        train_MSE[cols[i]] = mean_squared_error(y_train, y_train_pred[cols[i]])\n",
    "        print(\"intercept for {}: {}\".format(cols[i], B0[cols[i]]))\n",
    "        print(\"coefficient for {}: {}\\n\".format(cols[i], Bi[cols[i]]))\n",
    "    return (B0, Bi, train_MSE, y_train_pred)\n",
    "    \n",
    "    "
   ]
  },
  {
   "cell_type": "code",
   "execution_count": 12,
   "metadata": {},
   "outputs": [
    {
     "name": "stdout",
     "output_type": "stream",
     "text": [
      "intercept for TV: 13.88\n",
      "coefficient for TV: [3.76126158]\n",
      "\n",
      "intercept for Radio: 13.879999999999999\n",
      "coefficient for Radio: [2.51169436]\n",
      "\n",
      "intercept for Newspaper: 13.879999999999999\n",
      "coefficient for Newspaper: [0.54365957]\n",
      "\n",
      "intercept for TV: 13.88\n",
      "coefficient for TV: [2.78812774]\n",
      "\n",
      "intercept for Radio: 13.879999999999999\n",
      "coefficient for Radio: [1.52963503]\n",
      "\n",
      "intercept for Newspaper: 13.879999999999999\n",
      "coefficient for Newspaper: [0.]\n",
      "\n"
     ]
    }
   ],
   "source": [
    "rr = Ridge()\n",
    "B0_rr, Bi_rr, train_MSE_rr, y_train_pred_rr = trainModel(X_train, y_train, rr)\n",
    "\n",
    "lr = Lasso()\n",
    "B0_lr, Bi_lr, train_MSE_lr, y_train_pred_lr = trainModel(X_train, y_train, lr)"
   ]
  },
  {
   "cell_type": "markdown",
   "metadata": {},
   "source": [
    "#### predicting y using the trained ridge and lasso regression model"
   ]
  },
  {
   "cell_type": "code",
   "execution_count": 13,
   "metadata": {},
   "outputs": [],
   "source": [
    "est_y_rr = {}\n",
    "test_MSE_rr = {}\n",
    "est_y_lr = {}\n",
    "test_MSE_lr = {}\n",
    "for i in range(3):\n",
    "    x = X_test[:, i].reshape(-1, 1).round(2)\n",
    "    \n",
    "    est_y_rr[cols[i]] = rr.predict(x).round(2)\n",
    "    test_MSE_rr[cols[i]] = mean_squared_error(y_test, est_y_rr[cols[i]])\n",
    "    \n",
    "    est_y_lr[cols[i]] = lr.predict(x).round(2)\n",
    "    test_MSE_lr[cols[i]] = mean_squared_error(y_test, est_y_lr[cols[i]])\n"
   ]
  },
  {
   "cell_type": "markdown",
   "metadata": {},
   "source": [
    "#### calculating R2 and MSE for train and test"
   ]
  },
  {
   "cell_type": "code",
   "execution_count": 14,
   "metadata": {},
   "outputs": [
    {
     "name": "stdout",
     "output_type": "stream",
     "text": [
      "TV:\n",
      "\n",
      "Ridge:\n",
      "\ttrain MSE: 10.695981480028163\n",
      "\ttest MSE: 26.844583333333333\n",
      "\n",
      "\ttrain R^2: 0.1527\n",
      "\ttest R^2: 0.1529\n",
      "\n",
      "Lasso:\n",
      "\ttrain MSE: 11.695259689789301\n",
      "\ttest MSE: 31.914766666666665\n",
      "\n",
      "\ttrain R^2: 0.0\n",
      "\ttest R^2: -0.0071\n",
      "\n",
      "Radio:\n",
      "\n",
      "Ridge:\n",
      "\ttrain MSE: 18.646439886946194\n",
      "\ttest MSE: 27.838756666666665\n",
      "\n",
      "\ttrain R^2: 0.098\n",
      "\ttest R^2: 0.1215\n",
      "\n",
      "Lasso:\n",
      "\ttrain MSE: 19.64611801916241\n",
      "\ttest MSE: 31.914766666666665\n",
      "\n",
      "\ttrain R^2: 0.0\n",
      "\ttest R^2: -0.0071\n",
      "\n",
      "Newspaper:\n",
      "\n",
      "Ridge:\n",
      "\ttrain MSE: 24.74538333009708\n",
      "\ttest MSE: 29.126899999999996\n",
      "\n",
      "\ttrain R^2: 0.012\n",
      "\ttest R^2: 0.0809\n",
      "\n",
      "Lasso:\n",
      "\ttrain MSE: 25.045171428571425\n",
      "\ttest MSE: 31.914766666666665\n",
      "\n",
      "\ttrain R^2: 0.0\n",
      "\ttest R^2: -0.0071\n",
      "\n"
     ]
    }
   ],
   "source": [
    "from sklearn.metrics import r2_score\n",
    "\n",
    "r2_test_rr = {}\n",
    "r2_train_rr = {}\n",
    "r2_test_lr = {}\n",
    "r2_train_lr = {}\n",
    "\n",
    "for i in range(3):\n",
    "    \n",
    "    r2_train_rr[cols[i]] = r2_score(y_train, rr.predict(X_train[:, i].reshape(-1,1))).round(4)\n",
    "    r2_test_rr[cols[i]] = r2_score(y_test, est_y_rr[cols[i]]).round(4)\n",
    "    \n",
    "    r2_train_lr[cols[i]] = r2_score(y_train, lr.predict(X_train[:, i].reshape(-1,1))).round(4)\n",
    "    r2_test_lr[cols[i]] = r2_score(y_test, est_y_lr[cols[i]]).round(4)\n",
    "    \n",
    "    print(\"{}:\\n\".format(cols[i]))\n",
    "    print(\"Ridge:\\n\\ttrain MSE: {}\\n\\ttest MSE: {}\\n\".format(train_MSE_rr[cols[i]], test_MSE_rr[cols[i]]))\n",
    "    print(\"\\ttrain R^2: {}\\n\\ttest R^2: {}\\n\".format(r2_train_rr[cols[i]], r2_test_rr[cols[i]]))\n",
    "    \n",
    "    print(\"Lasso:\\n\\ttrain MSE: {}\\n\\ttest MSE: {}\\n\".format(train_MSE_lr[cols[i]], test_MSE_lr[cols[i]]))\n",
    "    print(\"\\ttrain R^2: {}\\n\\ttest R^2: {}\\n\".format(r2_train_lr[cols[i]], r2_test_lr[cols[i]]))"
   ]
  }
 ],
 "metadata": {
  "kernelspec": {
   "display_name": "Python 3",
   "language": "python",
   "name": "python3"
  },
  "language_info": {
   "codemirror_mode": {
    "name": "ipython",
    "version": 3
   },
   "file_extension": ".py",
   "mimetype": "text/x-python",
   "name": "python",
   "nbconvert_exporter": "python",
   "pygments_lexer": "ipython3",
   "version": "3.7.4"
  }
 },
 "nbformat": 4,
 "nbformat_minor": 2
}
