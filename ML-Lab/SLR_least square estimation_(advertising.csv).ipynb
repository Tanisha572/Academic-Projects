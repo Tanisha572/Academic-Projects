{
 "cells": [
  {
   "cell_type": "markdown",
   "metadata": {},
   "source": [
    "## SIMPLE LINEAR REGRESSION (advertising.csv)"
   ]
  },
  {
   "cell_type": "markdown",
   "metadata": {},
   "source": [
    "#### importing libraries and setting up the data frame"
   ]
  },
  {
   "cell_type": "code",
   "execution_count": 7,
   "metadata": {},
   "outputs": [
    {
     "name": "stdout",
     "output_type": "stream",
     "text": [
      "        TV  Radio  Newspaper  Sales\n",
      "0    230.1   37.8       69.2   22.1\n",
      "1     44.5   39.3       45.1   10.4\n",
      "2     17.2   45.9       69.3    9.3\n",
      "3    151.5   41.3       58.5   18.5\n",
      "4    180.8   10.8       58.4   12.9\n",
      "..     ...    ...        ...    ...\n",
      "195   38.2    3.7       13.8    7.6\n",
      "196   94.2    4.9        8.1    9.7\n",
      "197  177.0    9.3        6.4   12.8\n",
      "198  283.6   42.0       66.2   25.5\n",
      "199  232.1    8.6        8.7   13.4\n",
      "\n",
      "[200 rows x 4 columns]\n"
     ]
    }
   ],
   "source": [
    "import pandas as pd\n",
    "import numpy as np\n",
    "import matplotlib.pyplot as plt\n",
    "df = pd.read_csv('datasets/Advertising.csv')\n",
    "\n",
    "# for col in df.columns: \n",
    "#     print(col)\n",
    "del df['Unnamed: 0']\n",
    "#print(df)"
   ]
  },
  {
   "cell_type": "code",
   "execution_count": 2,
   "metadata": {},
   "outputs": [],
   "source": [
    "# #doing simple LR with y = sales, and x = TV\n",
    "# data = {\n",
    "#     \"TV\" : df[\"TV\"],\n",
    "#     \"Sales\" : df[\"Sales\"]\n",
    "# } \n",
    "# df = pd.DataFrame(data)\n",
    "# #print(df)"
   ]
  },
  {
   "cell_type": "markdown",
   "metadata": {},
   "source": [
    "#### splitting data set for training and testing (80/20)"
   ]
  },
  {
   "cell_type": "code",
   "execution_count": 3,
   "metadata": {},
   "outputs": [],
   "source": [
    "n = len(df)\n",
    "\n",
    "# train_df = df.loc[0:(n*0.8), :]\n",
    "# test_df = df.loc[(n*0.8)+1:, :]\n",
    "# print(train_df)\n",
    "# print(test_df)"
   ]
  },
  {
   "cell_type": "markdown",
   "metadata": {},
   "source": [
    "#### function for calculating B0 and B1 and RSS, RSE"
   ]
  },
  {
   "cell_type": "code",
   "execution_count": 4,
   "metadata": {},
   "outputs": [],
   "source": [
    "\n",
    "def SLR(predictors, sales):\n",
    "    \n",
    "    RSS = {\"TV\": 0, \"Radio\": 0, \"Newspaper\": 0}\n",
    "    RSE = {\"TV\": 0, \"Radio\": 0, \"Newspaper\": 0}\n",
    "    R2 = {\"TV\": 0, \"Radio\": 0, \"Newspaper\": 0}\n",
    "\n",
    "    B0 = {\"TV\": 0, \"Radio\": 0, \"Newspaper\": 0}\n",
    "    B1 = {\"TV\": 0, \"Radio\": 0, \"Newspaper\": 0}\n",
    "\n",
    "    for key, value in predictors.items():\n",
    "        x = value.copy()\n",
    "        y = sales.copy()\n",
    "\n",
    "        mean_x = round(x.mean(), 4)\n",
    "        mean_y = round(y.mean(), 4)\n",
    "\n",
    "        deviation_x = round(x.sub(mean_x), 4)\n",
    "        deviation_y = round(y.sub(mean_y), 4)\n",
    "\n",
    "        deviation_xy = round(deviation_x.multiply(deviation_y), 4)\n",
    "        sum_deviation_xy = sum(deviation_xy)\n",
    "\n",
    "        deviation_x_sq = round(deviation_x.pow(2), 4)\n",
    "        sum_deviation_x_sq = sum(deviation_x_sq)\n",
    "        B1[key] = round(sum_deviation_xy/sum_deviation_x_sq, 4)\n",
    "        B0[key] = round(mean_y - B1[key]*mean_x, 4)\n",
    "        print(\"\\n\\nintercept (B0): {}\".format(B0[key]), \"\\nslope (B1): {}\".format(B1[key]))\n",
    "\n",
    "        #multiplying series x with a scalar B1 has to be through the other attribute \n",
    "        est_y = round((x.multiply(other= B1[key])).add(B0[key]), 4)\n",
    "        e = round(y.sub(est_y), 4)\n",
    "        e_sq = round(e.pow(2), 4)\n",
    "        RSS[key] = round(sum(e_sq), 4)\n",
    "        RSE[key] = round((RSS[key]/(n-2))**0.5)\n",
    "        \n",
    "        TSS = round(sum(y.sub(mean_y)**2), 4)\n",
    "        R2[key] = round(1 - (RSS[key]/TSS) , 2)\n",
    "\n",
    "        print(\"RSS for {} : {}\".format(key, RSS[key]))\n",
    "        print(\"RSE for {} : {}\".format(key, RSE[key]))\n",
    "        print(\"R2 for {} : {}\".format(key, R2[key]))\n",
    "        \n",
    "    return(RSS, RSE, R2, B0, B1)\n",
    "\n"
   ]
  },
  {
   "cell_type": "markdown",
   "metadata": {},
   "source": [
    "#### plotting the model"
   ]
  },
  {
   "cell_type": "code",
   "execution_count": 5,
   "metadata": {},
   "outputs": [],
   "source": [
    "def plotting_SLR(predictors, sales, B0, B1):\n",
    "    for key, value in predictors.items():\n",
    "        x = value.copy()\n",
    "        y = sales.copy()\n",
    "        print(\"\\n\\n{} v/s Sales\".format(key))\n",
    "        plt.scatter(x, y, color = 'blue')\n",
    "        plt.xlabel('{}'.format(key), fontsize=14)\n",
    "        plt.ylabel('sales', fontsize=14)\n",
    "        #m is slope and b is intercept, 1 is for linear relationship\n",
    "    #    m, b = np.polyfit(x, y, 1)\n",
    "        plt.plot(x, B1[key]*x + B0[key], color='green')\n",
    "        plt.show()"
   ]
  },
  {
   "cell_type": "markdown",
   "metadata": {},
   "source": [
    "#### creating dictionary of series for model training "
   ]
  },
  {
   "cell_type": "code",
   "execution_count": 6,
   "metadata": {},
   "outputs": [
    {
     "name": "stdout",
     "output_type": "stream",
     "text": [
      "\n",
      "\n",
      "intercept (B0): 7.038 \n",
      "slope (B1): 0.0475\n",
      "RSS for TV : 2102.5319\n",
      "RSE for TV : 3\n",
      "R2 for TV : 0.61\n",
      "\n",
      "\n",
      "intercept (B0): 9.3115 \n",
      "slope (B1): 0.2025\n",
      "RSS for Radio : 3618.4879\n",
      "RSE for Radio : 4\n",
      "R2 for Radio : 0.33\n",
      "\n",
      "\n",
      "intercept (B0): 12.3512 \n",
      "slope (B1): 0.0547\n",
      "RSS for Newspaper : 5134.8079\n",
      "RSE for Newspaper : 5\n",
      "R2 for Newspaper : 0.05\n",
      "\n",
      "\n",
      "TV v/s Sales\n"
     ]
    },
    {
     "data": {
      "image/png": "[encoded data removed]",
      "text/plain": [
       "<Figure size 432x288 with 1 Axes>"
      ]
     },
     "metadata": {
      "needs_background": "light"
     },
     "output_type": "display_data"
    },
    {
     "name": "stdout",
     "output_type": "stream",
     "text": [
      "\n",
      "\n",
      "Radio v/s Sales\n"
     ]
    },
    {
     "data": {
      "image/png": "[encoded data removed]",
      "text/plain": [
       "<Figure size 432x288 with 1 Axes>"
      ]
     },
     "metadata": {
      "needs_background": "light"
     },
     "output_type": "display_data"
    },
    {
     "name": "stdout",
     "output_type": "stream",
     "text": [
      "\n",
      "\n",
      "Newspaper v/s Sales\n"
     ]
    },
    {
     "data": {
      "image/png": "[encoded data removed]",
      "text/plain": [
       "<Figure size 432x288 with 1 Axes>"
      ]
     },
     "metadata": {
      "needs_background": "light"
     },
     "output_type": "display_data"
    }
   ],
   "source": [
    "predictors = {\"TV\" : df[\"TV\"], \"Radio\": df[\"Radio\"], \"Newspaper\": df[\"Newspaper\"]}\n",
    "\n",
    "\n",
    "RSS, RSE, R2, B0, B1 = SLR(predictors, df[\"Sales\"])\n",
    "plotting_SLR(predictors, df[\"Sales\"], B0, B1)"
   ]
  },
  {
   "cell_type": "code",
   "execution_count": null,
   "metadata": {},
   "outputs": [],
   "source": []
  }
 ],
 "metadata": {
  "kernelspec": {
   "display_name": "Python 3",
   "language": "python",
   "name": "python3"
  },
  "language_info": {
   "codemirror_mode": {
    "name": "ipython",
    "version": 3
   },
   "file_extension": ".py",
   "mimetype": "text/x-python",
   "name": "python",
   "nbconvert_exporter": "python",
   "pygments_lexer": "ipython3",
   "version": "3.7.4"
  }
 },
 "nbformat": 4,
 "nbformat_minor": 2
}
