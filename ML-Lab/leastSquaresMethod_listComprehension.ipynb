{
 "cells": [
  {
   "cell_type": "markdown",
   "metadata": {},
   "source": [
    "#### using least squares estimation calculate the intercept and slope of the following pairs of (x, y) training values: (2, 6), (5, 12), (8, 15), (12, 23), (17, 29). Predict the value of y for x = 10"
   ]
  },
  {
   "cell_type": "code",
   "execution_count": 8,
   "metadata": {},
   "outputs": [
    {
     "name": "stdout",
     "output_type": "stream",
     "text": [
      "intercept (B0): 3.4955 \n",
      "slope (B1): 1.5346\n",
      "RSS: 3.134\n",
      "\n",
      "for given x = 10, the predicted value of y is 19\n"
     ]
    }
   ],
   "source": [
    "x = [2, 5, 8, 12, 17]\n",
    "y = [6, 12, 15, 23, 29]\n",
    "\n",
    "mean_x = sum(x)/5\n",
    "mean_y = sum(y)/5\n",
    "#(xi - mean_x)\n",
    "\n",
    "deviation_x = [round(xi-mean_x, 4) for xi in x]\n",
    "deviation_y = [round(yi-mean_y, 4) for yi in y]\n",
    "#print(deviation_x, deviation_y)\n",
    "\n",
    "dev_xy = [round(deviation_x[i]*deviation_y[i], 4) for i in range(5)]\n",
    "dev_xy_sum = sum(dev_xy)\n",
    "#print(dev_xy)\n",
    "\n",
    "deviation_x_sq = [round(xi**2, 4) for xi in deviation_x]\n",
    "deviation_x_sq_sum = sum(deviation_x_sq)\n",
    "#print(deviation_xsq)\n",
    "\n",
    "B1 = round(dev_xy_sum/deviation_x_sq_sum, 4)\n",
    "B0 = round(mean_y - B1*mean_x, 4)\n",
    "print(\"intercept (B0): {}\".format(B0), \"\\nslope (B1): {}\".format(B1))\n",
    "\n",
    "est_y = [round(B0+B1*xi, 4) for xi in x]\n",
    "e = [round(y[i] - est_y[i], 4) for i in range(5)]\n",
    "e_sq = [round(ei**2, 4) for ei in e]\n",
    "RSS = round(sum(e_sq), 4)\n",
    "print(\"RSS: {}\".format(RSS))\n",
    "\n",
    "print(\"\\nfor given x = 10, the predicted value of y is {}\".format(round(B0+B1*10), 2))\n"
   ]
  }
 ],
 "metadata": {
  "kernelspec": {
   "display_name": "Python 3",
   "language": "python",
   "name": "python3"
  },
  "language_info": {
   "codemirror_mode": {
    "name": "ipython",
    "version": 3
   },
   "file_extension": ".py",
   "mimetype": "text/x-python",
   "name": "python",
   "nbconvert_exporter": "python",
   "pygments_lexer": "ipython3",
   "version": "3.7.4"
  }
 },
 "nbformat": 4,
 "nbformat_minor": 2
}
