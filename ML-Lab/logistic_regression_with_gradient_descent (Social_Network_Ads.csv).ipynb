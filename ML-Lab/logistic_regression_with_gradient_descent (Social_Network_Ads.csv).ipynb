{
 "cells": [
  {
   "cell_type": "markdown",
   "metadata": {},
   "source": [
    "### LOGISTIC REGRESSION WITH GRADIENT DESCENT (Social_Network_Ads.csv)"
   ]
  },
  {
   "cell_type": "markdown",
   "metadata": {},
   "source": [
    "#### importing libraries"
   ]
  },
  {
   "cell_type": "code",
   "execution_count": 7,
   "metadata": {},
   "outputs": [],
   "source": [
    "import pandas as pd\n",
    "from pandas import DataFrame\n",
    "import numpy as np\n",
    "import matplotlib.pyplot as plt\n",
    "import math"
   ]
  },
  {
   "cell_type": "markdown",
   "metadata": {},
   "source": [
    "#### getting data set"
   ]
  },
  {
   "cell_type": "code",
   "execution_count": 13,
   "metadata": {},
   "outputs": [
    {
     "name": "stdout",
     "output_type": "stream",
     "text": [
      "     Age  EstimatedSalary  Purchased\n",
      "0     19            19000          0\n",
      "1     35            20000          0\n",
      "2     26            43000          0\n",
      "3     27            57000          0\n",
      "4     19            76000          0\n",
      "..   ...              ...        ...\n",
      "395   46            41000          1\n",
      "396   51            23000          1\n",
      "397   50            20000          1\n",
      "398   36            33000          0\n",
      "399   49            36000          1\n",
      "\n",
      "[400 rows x 3 columns]\n"
     ]
    }
   ],
   "source": [
    "df = pd.read_csv('datasets/Social_Network_Ads.csv')\n",
    "n = len(df)\n",
    "cols = list(df.columns[:-1])\n",
    "\n",
    "X = df.iloc[:, :-1].values\n",
    "y = df.iloc[:,-1].values"
   ]
  },
  {
   "cell_type": "markdown",
   "metadata": {},
   "source": [
    "#### feature scaling"
   ]
  },
  {
   "cell_type": "code",
   "execution_count": 9,
   "metadata": {},
   "outputs": [],
   "source": [
    "from sklearn.preprocessing import StandardScaler\n",
    "sc = StandardScaler()\n",
    "X = sc.fit_transform(X)"
   ]
  },
  {
   "cell_type": "markdown",
   "metadata": {},
   "source": [
    "#### reshaping X and y, and making matrices using closed form "
   ]
  },
  {
   "cell_type": "code",
   "execution_count": 12,
   "metadata": {},
   "outputs": [
    {
     "name": "stdout",
     "output_type": "stream",
     "text": [
      "no. of samples/rows: 400\n",
      "no. of input features: 4, namely: ['Age', 'EstimatedSalary']\n",
      "X.shape: (400, 4)\n",
      "y.shape: (400, 1)\n",
      "\n",
      "[[ 1.          1.          1.         -1.78179743 -1.49004624]\n",
      " [ 1.          1.          1.         -0.25358736 -1.46068138]\n",
      " [ 1.          1.          1.         -1.11320552 -0.78528968]\n",
      " ...\n",
      " [ 1.          1.          1.          1.17910958 -1.46068138]\n",
      " [ 1.          1.          1.         -0.15807423 -1.07893824]\n",
      " [ 1.          1.          1.          1.08359645 -0.99084367]]\n"
     ]
    }
   ],
   "source": [
    "rows = X.shape[0]\n",
    "columns = X.shape[1]\n",
    "#y has a shape of (400,) i.e 400 rows. to make it explicity a Id np array, we'll reshape it with cols=1\n",
    "y = y.reshape(y.shape[0], 1)\n",
    "print(\"no. of samples/rows: {}\\nno. of input features: {}, namely: {}\".format(rows, columns, cols))\n",
    "print(\"X.shape: {}\".format(X.shape))\n",
    "print(\"y.shape: {}\\n\".format(y.shape))\n",
    "\n",
    "ones = np.ones((rows, 1), dtype=int)\n",
    "\n",
    "\n",
    "#adding this ones column to X\n",
    "X = np.concatenate((ones, X), axis=1)\n",
    "#for updated X, first col of 1s represents x0 i.e 1(coef of intercept), \n",
    "#second and third col represent coefs of Age(x1) and EstimatedSalary(x2) respectively\n",
    "#no. columns gets updated by 1\n",
    "columns = X.shape[1]\n",
    "print(X)\n"
   ]
  },
  {
   "cell_type": "markdown",
   "metadata": {},
   "source": [
    "#### defining learning rate and epochs(#iterations)"
   ]
  },
  {
   "cell_type": "code",
   "execution_count": 5,
   "metadata": {},
   "outputs": [],
   "source": [
    "a = 0.1\n",
    "epochs = 20"
   ]
  },
  {
   "cell_type": "markdown",
   "metadata": {},
   "source": [
    "#### checking for missing values"
   ]
  },
  {
   "cell_type": "code",
   "execution_count": 6,
   "metadata": {},
   "outputs": [
    {
     "name": "stdout",
     "output_type": "stream",
     "text": [
      "no missing values\n"
     ]
    }
   ],
   "source": [
    "if pd.isnull(df).values.any() == True:\n",
    "    print('missing values exist')\n",
    "else:\n",
    "    print('no missing values')"
   ]
  },
  {
   "cell_type": "markdown",
   "metadata": {},
   "source": [
    "#### splitting into training and testing set (70/30)"
   ]
  },
  {
   "cell_type": "code",
   "execution_count": 7,
   "metadata": {},
   "outputs": [
    {
     "name": "stdout",
     "output_type": "stream",
     "text": [
      "(280, 3)\n",
      "(280, 1)\n"
     ]
    }
   ],
   "source": [
    "from sklearn.model_selection import train_test_split\n",
    "X_train, X_test, y_train, y_test = train_test_split(X, y, test_size = 0.3, random_state = 10)\n",
    "print(X_train.shape)\n",
    "print(y_train.shape)"
   ]
  },
  {
   "cell_type": "markdown",
   "metadata": {},
   "source": [
    "#### function for calculating the hypothesis function for logistic regression"
   ]
  },
  {
   "cell_type": "code",
   "execution_count": 8,
   "metadata": {},
   "outputs": [],
   "source": [
    "def getHypothesisF(z):\n",
    "    return (1/(1+np.exp(-z)))"
   ]
  },
  {
   "cell_type": "markdown",
   "metadata": {},
   "source": [
    "#### function for calculating cost"
   ]
  },
  {
   "cell_type": "code",
   "execution_count": 9,
   "metadata": {},
   "outputs": [],
   "source": [
    "def getCost(y, y_pred):\n",
    "    cost = y*np.log(y_pred) + (1-y)*np.log(1-y_pred)\n",
    "    J = (-1/y.shape[0])*sum(cost)\n",
    "    return J.round(6)"
   ]
  },
  {
   "cell_type": "markdown",
   "metadata": {},
   "source": [
    "#### function for performing logistic regression with gradient descent"
   ]
  },
  {
   "cell_type": "code",
   "execution_count": 10,
   "metadata": {},
   "outputs": [],
   "source": [
    "def logisticRegressionWithGD(X_train, y_train, epochs, a, columns, rows):\n",
    "    theta = np.zeros((columns, 1))\n",
    "    accuracy_train = np.empty([epochs])\n",
    "    cost_train = np.empty([epochs])\n",
    "    \n",
    "    for i in range(epochs):\n",
    "        print(\"\\nITERATION {}\\n\\n\".format(i))\n",
    "        #getting the hypothesis\n",
    "        print(\"\\tcurrent theta: {}\\n\\n\".format(theta.T))\n",
    "        y_pred = getHypothesisF(X_train.dot(theta))\n",
    "        \n",
    "        #classfying the labels\n",
    "        y_label = np.where(y_pred >= 0.5, 1, 0)\n",
    "        \n",
    "        #calculating the cost associated with current prediction\n",
    "        cost_train[i] = getCost(y_train, y_pred)\n",
    "        print(\"\\tcost: {}\\n\".format(cost_train[i]))\n",
    "        \n",
    "        #getting the accuracy for current prediction\n",
    "        difference = y_pred - y_train\n",
    "        accuracy_train[i] = 1 - (sum(difference)/rows)\n",
    "        \n",
    "        #improving on coefs for next iteration\n",
    "        theta = theta - a*((((difference.T).dot(X_train))/rows).T)\n",
    "        \n",
    "    return (y_label, accuracy_train, cost_train)\n",
    "        "
   ]
  },
  {
   "cell_type": "code",
   "execution_count": 11,
   "metadata": {},
   "outputs": [
    {
     "name": "stdout",
     "output_type": "stream",
     "text": [
      "\n",
      "ITERATION 0\n",
      "\n",
      "\n",
      "\tcurrent theta: [[0. 0. 0.]]\n",
      "\n",
      "\n",
      "\tcost: 0.693147\n",
      "\n",
      "\n",
      "ITERATION 1\n",
      "\n",
      "\n",
      "\tcurrent theta: [[-0.01214286  0.02977178  0.01849719]]\n",
      "\n",
      "\n",
      "\tcost: 0.679582\n",
      "\n",
      "\n",
      "ITERATION 2\n",
      "\n",
      "\n",
      "\tcurrent theta: [[-0.02398196  0.05873969  0.03638919]]\n",
      "\n",
      "\n",
      "\tcost: 0.66677\n",
      "\n",
      "\n",
      "ITERATION 3\n",
      "\n",
      "\n",
      "\tcurrent theta: [[-0.03552541  0.08692735  0.05369629]]\n",
      "\n",
      "\n",
      "\tcost: 0.654669\n",
      "\n",
      "\n",
      "ITERATION 4\n",
      "\n",
      "\n",
      "\tcurrent theta: [[-0.04678156  0.11435894  0.0704391 ]]\n",
      "\n",
      "\n",
      "\tcost: 0.643236\n",
      "\n",
      "\n",
      "ITERATION 5\n",
      "\n",
      "\n",
      "\tcurrent theta: [[-0.05775892  0.14105896  0.08663836]]\n",
      "\n",
      "\n",
      "\tcost: 0.632429\n",
      "\n",
      "\n",
      "ITERATION 6\n",
      "\n",
      "\n",
      "\tcurrent theta: [[-0.06846606  0.16705202  0.10231478]]\n",
      "\n",
      "\n",
      "\tcost: 0.622211\n",
      "\n",
      "\n",
      "ITERATION 7\n",
      "\n",
      "\n",
      "\tcurrent theta: [[-0.07891159  0.19236258  0.11748886]]\n",
      "\n",
      "\n",
      "\tcost: 0.612545\n",
      "\n",
      "\n",
      "ITERATION 8\n",
      "\n",
      "\n",
      "\tcurrent theta: [[-0.08910403  0.21701488  0.13218077]]\n",
      "\n",
      "\n",
      "\tcost: 0.603395\n",
      "\n",
      "\n",
      "ITERATION 9\n",
      "\n",
      "\n",
      "\tcurrent theta: [[-0.09905184  0.24103274  0.14641027]]\n",
      "\n",
      "\n",
      "\tcost: 0.594729\n",
      "\n",
      "\n",
      "ITERATION 10\n",
      "\n",
      "\n",
      "\tcurrent theta: [[-0.10876329  0.26443949  0.16019657]]\n",
      "\n",
      "\n",
      "\tcost: 0.586516\n",
      "\n",
      "\n",
      "ITERATION 11\n",
      "\n",
      "\n",
      "\tcurrent theta: [[-0.11824651  0.28725786  0.17355834]]\n",
      "\n",
      "\n",
      "\tcost: 0.578727\n",
      "\n",
      "\n",
      "ITERATION 12\n",
      "\n",
      "\n",
      "\tcurrent theta: [[-0.12750941  0.30950992  0.18651361]]\n",
      "\n",
      "\n",
      "\tcost: 0.571335\n",
      "\n",
      "\n",
      "ITERATION 13\n",
      "\n",
      "\n",
      "\tcurrent theta: [[-0.13655967  0.33121705  0.19907975]]\n",
      "\n",
      "\n",
      "\tcost: 0.564314\n",
      "\n",
      "\n",
      "ITERATION 14\n",
      "\n",
      "\n",
      "\tcurrent theta: [[-0.14540477  0.35239991  0.21127347]]\n",
      "\n",
      "\n",
      "\tcost: 0.557642\n",
      "\n",
      "\n",
      "ITERATION 15\n",
      "\n",
      "\n",
      "\tcurrent theta: [[-0.15405189  0.37307837  0.22311079]]\n",
      "\n",
      "\n",
      "\tcost: 0.551296\n",
      "\n",
      "\n",
      "ITERATION 16\n",
      "\n",
      "\n",
      "\tcurrent theta: [[-0.162508    0.39327157  0.23460705]]\n",
      "\n",
      "\n",
      "\tcost: 0.545256\n",
      "\n",
      "\n",
      "ITERATION 17\n",
      "\n",
      "\n",
      "\tcurrent theta: [[-0.17077978  0.41299788  0.2457769 ]]\n",
      "\n",
      "\n",
      "\tcost: 0.539502\n",
      "\n",
      "\n",
      "ITERATION 18\n",
      "\n",
      "\n",
      "\tcurrent theta: [[-0.1788737   0.43227492  0.25663435]]\n",
      "\n",
      "\n",
      "\tcost: 0.534017\n",
      "\n",
      "\n",
      "ITERATION 19\n",
      "\n",
      "\n",
      "\tcurrent theta: [[-0.18679594  0.45111955  0.26719273]]\n",
      "\n",
      "\n",
      "\tcost: 0.528784\n",
      "\n"
     ]
    }
   ],
   "source": [
    "y_label, accuracy_train, cost_train = logisticRegressionWithGD(X_train, y_train, epochs, a, X_train.shape[1], X_train.shape[0])\n"
   ]
  },
  {
   "cell_type": "code",
   "execution_count": 12,
   "metadata": {},
   "outputs": [
    {
     "data": {
      "image/png": "[encoded data removed]",
      "text/plain": [
       "<Figure size 432x288 with 1 Axes>"
      ]
     },
     "metadata": {
      "needs_background": "light"
     },
     "output_type": "display_data"
    },
    {
     "data": {
      "image/png": "[encoded data removed]",
      "text/plain": [
       "<Figure size 432x288 with 1 Axes>"
      ]
     },
     "metadata": {
      "needs_background": "light"
     },
     "output_type": "display_data"
    }
   ],
   "source": [
    "\n",
    "plt.plot(accuracy_train, range(epochs), color='red')\n",
    "plt.xlabel(\"accuracy\")\n",
    "plt.ylabel(\"iterations\")\n",
    "plt.title(\"Accuracy v/s Iterations (Training)\")\n",
    "plt.show()\n",
    "\n",
    "plt.plot(cost_train, range(epochs), color='green')\n",
    "plt.xlabel(\"cost\")\n",
    "plt.ylabel(\"iterations\")\n",
    "plt.title(\"Cost v/s Iterations (Training)\")\n",
    "plt.show()"
   ]
  }
 ],
 "metadata": {
  "kernelspec": {
   "display_name": "Python 3",
   "language": "python",
   "name": "python3"
  },
  "language_info": {
   "codemirror_mode": {
    "name": "ipython",
    "version": 3
   },
   "file_extension": ".py",
   "mimetype": "text/x-python",
   "name": "python",
   "nbconvert_exporter": "python",
   "pygments_lexer": "ipython3",
   "version": "3.7.4"
  }
 },
 "nbformat": 4,
 "nbformat_minor": 2
}
